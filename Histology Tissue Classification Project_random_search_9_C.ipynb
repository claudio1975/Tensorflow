{
 "cells": [
  {
   "cell_type": "markdown",
   "metadata": {},
   "source": [
    "# Histology Tissue Classification Project (HTCP)"
   ]
  },
  {
   "cell_type": "markdown",
   "metadata": {},
   "source": [
    "(C) K. Mader / U. Michelucci 2018-2019\n",
    "\n",
    "# Overview\n",
    "The dataset serves as a much more interesting MNIST or CIFAR10 problem for biologists by focusing on histology tiles from patients with colorectal cancer. In particular, the data has 8 different classes of tissue (but Cancer/Not Cancer can also be an interesting problem).\n",
    "\n",
    "The dataset has been adapted for the course by K. Mader (kevin.mader@gmail.com), and is available on kaggle: https://goo.gl/26zj41\n",
    "\n",
    "# Challenge\n",
    "- Classify tiles correctly into one of the eight classes\n",
    "- Which classes are most frequently confused?\n",
    "- What features can be used (like texture, see scikit-image) to improve classification?\n",
    "- How can these models be applied to the much larger 5000x5000 models? \n",
    "How can this be done efficiently?\n",
    "\n",
    "# Acknowledgements\n",
    "The dataset has been copied from Zenodo: https://zenodo.org/record/53169#.W6HwwP4zbOQ\n",
    "\n",
    "made by: Kather, Jakob Nikolas; Zöllner, Frank Gerrit; Bianconi, Francesco; Melchers, \n",
    "    Susanne M; Schad, Lothar R; Gaiser, Timo; Marx, Alexander; Weis, Cleo-Aron\n",
    "\n",
    "The copy here is to make it more accessible to Kaggle users and allow kernels \n",
    "providing basic analysis of the data\n",
    "\n",
    "Content\n",
    "This data set represents a collection of textures in histological images of \n",
    "human colorectal cancer. It contains two files:\n",
    "\n",
    "    Kather_texture_2016_image_tiles_5000.zip\": a zipped folder containing 5000 \n",
    "    histological images of 150 * 150 px each (74 * 74 µm). Each image belongs \n",
    "    to exactly one of eight tissue categories (specified by the folder name). \n",
    "    \n",
    "    Kather_texture_2016_larger_images_10.zip\": a zipped folder containing 10 \n",
    "    larger histological images of 5000 x 5000 px each. These images contain \n",
    "    more than one tissue type. Image format\n",
    "\n",
    "All images are RGB, 0.495 µm per pixel, digitized with an Aperio ScanScope \n",
    "(Aperio/Leica biosystems), magnification 20x. Histological samples are fully \n",
    "anonymized images of formalin-fixed paraffin-embedded human colorectal \n",
    "adenocarcinomas (primary tumors) from our pathology archive (Institute of Pathology, \n",
    "University Medical Center Mannheim, Heidelberg University, Mannheim, Germany).\n",
    "\n",
    "Additionally the files has been prepared to resemble the MNIST dataset, meaning that you will also find the following files\n",
    "\n",
    "- HTCP_8_8_L - \n",
    "- HTCP_8_8_RGB -\n",
    "- HTCP_28_28_L -\n",
    "- HTCP_28_28_RGB - \n",
    "- HTCP_64_64_L\n",
    "\n",
    "# Ethics statement\n",
    "All experiments were approved by the institutional ethics board (medical ethics board II, University Medical Center Mannheim, Heidelberg University, Germany; approval 2015-868R-MA). The institutional ethics board waived the need for informed consent for this retrospective analysis of anonymized samples. All experiments were carried out in accordance with the approved guidelines and with the Declaration of Helsinki.\n",
    "\n",
    "# More information / data usage\n",
    "For more information, please refer to the following article. Please cite this article when using the data set.\n",
    "\n",
    "Kather JN, Weis CA, Bianconi F, Melchers SM, Schad LR, Gaiser T, Marx A, Zollner F: Multi-class texture analysis in colorectal cancer histology (2016), Scientific Reports (in press)\n",
    "\n",
    "# Contact\n",
    "For questions, please contact: Dr. Jakob Nikolas Kather http://orcid.org/0000-0002-3730-5348 ResearcherID: D-4279-2015"
   ]
  },
  {
   "cell_type": "markdown",
   "metadata": {},
   "source": [
    "# Download the data"
   ]
  },
  {
   "cell_type": "markdown",
   "metadata": {},
   "source": [
    "The dataset is composed of two datasets:\n",
    "\n",
    "- The small images that will be used to test the classification models\n",
    "- The big microscope images (5000x5000)\n",
    "\n",
    "The first dataset is quite small and can be found in the same github repository where you find this file. The second are much bigger (250 Mb and 700 Mb) and cannot be uploaded on github, so you can get them on  kaggle: https://goo.gl/hkRSke  "
   ]
  },
  {
   "cell_type": "markdown",
   "metadata": {},
   "source": [
    "# Helper Functions"
   ]
  },
  {
   "cell_type": "code",
   "execution_count": 1,
   "metadata": {},
   "outputs": [],
   "source": [
    "def plot_image(some_image):\n",
    "    \n",
    "    some_digit_image = some_image.values.reshape(28,28)\n",
    "\n",
    "    plt.imshow(some_digit_image, cmap = matplotlib.cm.binary, interpolation = \"nearest\")\n",
    "    plt.axis(\"off\")\n",
    "    plt.show()"
   ]
  },
  {
   "cell_type": "code",
   "execution_count": 2,
   "metadata": {},
   "outputs": [],
   "source": [
    "def get_label_name(idx):\n",
    "    \n",
    "    if (idx == 1):\n",
    "        return '(1) TUMOR'\n",
    "    elif (idx == 2):\n",
    "        return '(2) STROMA'\n",
    "    elif (idx == 3):\n",
    "        return '(3) COMPLEX'\n",
    "    elif (idx == 4):\n",
    "        return '(4) LYMPHO'\n",
    "    elif (idx == 5):\n",
    "        return '(5) DEBRIS'\n",
    "    elif (idx == 6):\n",
    "        return '(6) MUCOSA'\n",
    "    elif (idx == 7):\n",
    "        return '(7) ADIPOSE'\n",
    "    elif (idx == 8):\n",
    "        return '(8) EMPTY'"
   ]
  },
  {
   "cell_type": "markdown",
   "metadata": {},
   "source": [
    "# Load the data"
   ]
  },
  {
   "cell_type": "code",
   "execution_count": 3,
   "metadata": {},
   "outputs": [],
   "source": [
    "%matplotlib inline\n",
    "from glob import glob\n",
    "import os\n",
    "import matplotlib.pyplot as plt\n",
    "import matplotlib\n",
    "import numpy as np\n",
    "import pandas as pd\n",
    "from random import *"
   ]
  },
  {
   "cell_type": "code",
   "execution_count": 4,
   "metadata": {},
   "outputs": [],
   "source": [
    "data = pd.read_csv('data/HTCP_28_28_L.csv')"
   ]
  },
  {
   "cell_type": "markdown",
   "metadata": {},
   "source": [
    "Let's create an array with labels (not yet one-encoded) and one for the images."
   ]
  },
  {
   "cell_type": "code",
   "execution_count": 5,
   "metadata": {},
   "outputs": [],
   "source": [
    "yinput = data['label']\n",
    "Xinput = data.drop(['label'], axis = 1)"
   ]
  },
  {
   "cell_type": "markdown",
   "metadata": {},
   "source": [
    "Let's look at the first records of the dataframe"
   ]
  },
  {
   "cell_type": "code",
   "execution_count": 6,
   "metadata": {},
   "outputs": [
    {
     "data": {
      "text/html": [
       "<div>\n",
       "<style scoped>\n",
       "    .dataframe tbody tr th:only-of-type {\n",
       "        vertical-align: middle;\n",
       "    }\n",
       "\n",
       "    .dataframe tbody tr th {\n",
       "        vertical-align: top;\n",
       "    }\n",
       "\n",
       "    .dataframe thead th {\n",
       "        text-align: right;\n",
       "    }\n",
       "</style>\n",
       "<table border=\"1\" class=\"dataframe\">\n",
       "  <thead>\n",
       "    <tr style=\"text-align: right;\">\n",
       "      <th></th>\n",
       "      <th>pixel0000</th>\n",
       "      <th>pixel0001</th>\n",
       "      <th>pixel0002</th>\n",
       "      <th>pixel0003</th>\n",
       "      <th>pixel0004</th>\n",
       "      <th>pixel0005</th>\n",
       "      <th>pixel0006</th>\n",
       "      <th>pixel0007</th>\n",
       "      <th>pixel0008</th>\n",
       "      <th>pixel0009</th>\n",
       "      <th>...</th>\n",
       "      <th>pixel0774</th>\n",
       "      <th>pixel0775</th>\n",
       "      <th>pixel0776</th>\n",
       "      <th>pixel0777</th>\n",
       "      <th>pixel0778</th>\n",
       "      <th>pixel0779</th>\n",
       "      <th>pixel0780</th>\n",
       "      <th>pixel0781</th>\n",
       "      <th>pixel0782</th>\n",
       "      <th>pixel0783</th>\n",
       "    </tr>\n",
       "  </thead>\n",
       "  <tbody>\n",
       "    <tr>\n",
       "      <th>0</th>\n",
       "      <td>101</td>\n",
       "      <td>110</td>\n",
       "      <td>154</td>\n",
       "      <td>160</td>\n",
       "      <td>95</td>\n",
       "      <td>44</td>\n",
       "      <td>139</td>\n",
       "      <td>184</td>\n",
       "      <td>164</td>\n",
       "      <td>160</td>\n",
       "      <td>...</td>\n",
       "      <td>128</td>\n",
       "      <td>103</td>\n",
       "      <td>73</td>\n",
       "      <td>72</td>\n",
       "      <td>75</td>\n",
       "      <td>152</td>\n",
       "      <td>130</td>\n",
       "      <td>96</td>\n",
       "      <td>133</td>\n",
       "      <td>159</td>\n",
       "    </tr>\n",
       "    <tr>\n",
       "      <th>1</th>\n",
       "      <td>67</td>\n",
       "      <td>66</td>\n",
       "      <td>69</td>\n",
       "      <td>76</td>\n",
       "      <td>80</td>\n",
       "      <td>57</td>\n",
       "      <td>46</td>\n",
       "      <td>67</td>\n",
       "      <td>90</td>\n",
       "      <td>77</td>\n",
       "      <td>...</td>\n",
       "      <td>57</td>\n",
       "      <td>58</td>\n",
       "      <td>65</td>\n",
       "      <td>74</td>\n",
       "      <td>80</td>\n",
       "      <td>81</td>\n",
       "      <td>83</td>\n",
       "      <td>77</td>\n",
       "      <td>75</td>\n",
       "      <td>73</td>\n",
       "    </tr>\n",
       "    <tr>\n",
       "      <th>2</th>\n",
       "      <td>127</td>\n",
       "      <td>137</td>\n",
       "      <td>121</td>\n",
       "      <td>140</td>\n",
       "      <td>170</td>\n",
       "      <td>111</td>\n",
       "      <td>128</td>\n",
       "      <td>117</td>\n",
       "      <td>60</td>\n",
       "      <td>105</td>\n",
       "      <td>...</td>\n",
       "      <td>69</td>\n",
       "      <td>90</td>\n",
       "      <td>100</td>\n",
       "      <td>143</td>\n",
       "      <td>119</td>\n",
       "      <td>148</td>\n",
       "      <td>140</td>\n",
       "      <td>193</td>\n",
       "      <td>146</td>\n",
       "      <td>97</td>\n",
       "    </tr>\n",
       "    <tr>\n",
       "      <th>3</th>\n",
       "      <td>80</td>\n",
       "      <td>90</td>\n",
       "      <td>101</td>\n",
       "      <td>106</td>\n",
       "      <td>120</td>\n",
       "      <td>100</td>\n",
       "      <td>99</td>\n",
       "      <td>66</td>\n",
       "      <td>63</td>\n",
       "      <td>91</td>\n",
       "      <td>...</td>\n",
       "      <td>154</td>\n",
       "      <td>131</td>\n",
       "      <td>109</td>\n",
       "      <td>97</td>\n",
       "      <td>102</td>\n",
       "      <td>71</td>\n",
       "      <td>93</td>\n",
       "      <td>120</td>\n",
       "      <td>84</td>\n",
       "      <td>62</td>\n",
       "    </tr>\n",
       "    <tr>\n",
       "      <th>4</th>\n",
       "      <td>153</td>\n",
       "      <td>141</td>\n",
       "      <td>121</td>\n",
       "      <td>132</td>\n",
       "      <td>110</td>\n",
       "      <td>131</td>\n",
       "      <td>119</td>\n",
       "      <td>99</td>\n",
       "      <td>101</td>\n",
       "      <td>91</td>\n",
       "      <td>...</td>\n",
       "      <td>134</td>\n",
       "      <td>117</td>\n",
       "      <td>121</td>\n",
       "      <td>136</td>\n",
       "      <td>178</td>\n",
       "      <td>192</td>\n",
       "      <td>210</td>\n",
       "      <td>189</td>\n",
       "      <td>149</td>\n",
       "      <td>155</td>\n",
       "    </tr>\n",
       "  </tbody>\n",
       "</table>\n",
       "<p>5 rows × 784 columns</p>\n",
       "</div>"
      ],
      "text/plain": [
       "   pixel0000  pixel0001  pixel0002  pixel0003  pixel0004  pixel0005  \\\n",
       "0        101        110        154        160         95         44   \n",
       "1         67         66         69         76         80         57   \n",
       "2        127        137        121        140        170        111   \n",
       "3         80         90        101        106        120        100   \n",
       "4        153        141        121        132        110        131   \n",
       "\n",
       "   pixel0006  pixel0007  pixel0008  pixel0009    ...      pixel0774  \\\n",
       "0        139        184        164        160    ...            128   \n",
       "1         46         67         90         77    ...             57   \n",
       "2        128        117         60        105    ...             69   \n",
       "3         99         66         63         91    ...            154   \n",
       "4        119         99        101         91    ...            134   \n",
       "\n",
       "   pixel0775  pixel0776  pixel0777  pixel0778  pixel0779  pixel0780  \\\n",
       "0        103         73         72         75        152        130   \n",
       "1         58         65         74         80         81         83   \n",
       "2         90        100        143        119        148        140   \n",
       "3        131        109         97        102         71         93   \n",
       "4        117        121        136        178        192        210   \n",
       "\n",
       "   pixel0781  pixel0782  pixel0783  \n",
       "0         96        133        159  \n",
       "1         77         75         73  \n",
       "2        193        146         97  \n",
       "3        120         84         62  \n",
       "4        189        149        155  \n",
       "\n",
       "[5 rows x 784 columns]"
      ]
     },
     "execution_count": 6,
     "metadata": {},
     "output_type": "execute_result"
    }
   ],
   "source": [
    "Xinput.head()"
   ]
  },
  {
   "cell_type": "code",
   "execution_count": 7,
   "metadata": {},
   "outputs": [
    {
     "data": {
      "text/plain": [
       "0    2\n",
       "1    2\n",
       "2    2\n",
       "3    2\n",
       "4    2\n",
       "Name: label, dtype: int64"
      ]
     },
     "execution_count": 7,
     "metadata": {},
     "output_type": "execute_result"
    }
   ],
   "source": [
    "yinput.head()"
   ]
  },
  {
   "cell_type": "markdown",
   "metadata": {},
   "source": [
    "The datasets has 5000 images, each 28x28 in gray"
   ]
  },
  {
   "cell_type": "code",
   "execution_count": 8,
   "metadata": {},
   "outputs": [
    {
     "data": {
      "text/plain": [
       "(5000, 784)"
      ]
     },
     "execution_count": 8,
     "metadata": {},
     "output_type": "execute_result"
    }
   ],
   "source": [
    "Xinput.shape"
   ]
  },
  {
   "cell_type": "code",
   "execution_count": 9,
   "metadata": {},
   "outputs": [
    {
     "data": {
      "text/plain": [
       "(5000,)"
      ]
     },
     "execution_count": 9,
     "metadata": {},
     "output_type": "execute_result"
    }
   ],
   "source": [
    "yinput.shape"
   ]
  },
  {
   "cell_type": "markdown",
   "metadata": {},
   "source": [
    "## Examples of each class"
   ]
  },
  {
   "cell_type": "markdown",
   "metadata": {},
   "source": [
    "Let's plot an image of each class"
   ]
  },
  {
   "cell_type": "code",
   "execution_count": 10,
   "metadata": {},
   "outputs": [
    {
     "data": {
      "text/plain": [
       "array([2, 5, 7, 6, 8, 1, 4, 3], dtype=int64)"
      ]
     },
     "execution_count": 10,
     "metadata": {},
     "output_type": "execute_result"
    }
   ],
   "source": [
    "yinput.unique()"
   ]
  },
  {
   "cell_type": "code",
   "execution_count": 11,
   "metadata": {},
   "outputs": [],
   "source": [
    "def get_random_element_with_label (Xinput, lbls, lbl):\n",
    "    tmp = lbls == lbl\n",
    "    subset = Xinput[tmp]\n",
    "    return subset.iloc[randint(1,subset.shape[0])]\n",
    "\n",
    "labels_overview = np.empty([10,784])\n",
    "for i in range (1,9):\n",
    "    img = get_random_element_with_label(Xinput, yinput, i)\n",
    "    labels_overview[i,:] = img"
   ]
  },
  {
   "cell_type": "code",
   "execution_count": 12,
   "metadata": {},
   "outputs": [
    {
     "data": {
      "image/png": "[encoded data removed]",
      "text/plain": [
       "<Figure size 576x1080 with 8 Axes>"
      ]
     },
     "metadata": {
      "needs_background": "light"
     },
     "output_type": "display_data"
    }
   ],
   "source": [
    "f = plt.figure(figsize=(8,15));\n",
    "count = 1\n",
    "for i in range(1,9):\n",
    "    plt.subplot(5,2,count)\n",
    "    count = count + 1\n",
    "    plt.subplots_adjust(hspace=0.2)\n",
    "    plt.title(get_label_name(i))\n",
    "    some_digit_image = labels_overview[i,:].reshape(28,28)\n",
    "    plt.imshow(some_digit_image, cmap = matplotlib.cm.binary, interpolation = \"nearest\")\n",
    "    plt.axis(\"off\")\n",
    "    pass"
   ]
  },
  {
   "cell_type": "code",
   "execution_count": 13,
   "metadata": {},
   "outputs": [
    {
     "name": "stdout",
     "output_type": "stream",
     "text": [
      "image 0 appear 0 times\n",
      "image 1 appear 625 times\n",
      "image 2 appear 625 times\n",
      "image 3 appear 625 times\n",
      "image 4 appear 625 times\n",
      "image 5 appear 625 times\n",
      "image 6 appear 625 times\n",
      "image 7 appear 625 times\n",
      "image 8 appear 625 times\n"
     ]
    }
   ],
   "source": [
    "total = 0\n",
    "for i in range(9):\n",
    "    print (\"image\", i, \"appear\", np.count_nonzero(yinput == i), \"times\")"
   ]
  },
  {
   "cell_type": "code",
   "execution_count": 14,
   "metadata": {},
   "outputs": [
    {
     "name": "stdout",
     "output_type": "stream",
     "text": [
      "image 0 makes 0.0 % of the 5000 observations\n",
      "image 1 makes 12.5 % of the 5000 observations\n",
      "image 2 makes 12.5 % of the 5000 observations\n",
      "image 3 makes 12.5 % of the 5000 observations\n",
      "image 4 makes 12.5 % of the 5000 observations\n",
      "image 5 makes 12.5 % of the 5000 observations\n",
      "image 6 makes 12.5 % of the 5000 observations\n",
      "image 7 makes 12.5 % of the 5000 observations\n",
      "image 8 makes 12.5 % of the 5000 observations\n"
     ]
    }
   ],
   "source": [
    "total = 0\n",
    "for i in range(9):\n",
    "    print (\"image\", i, \"makes\", np.around(np.count_nonzero(yinput == i)/5000.0*100.0, decimals=1), \"% of the 5000 observations\")"
   ]
  },
  {
   "cell_type": "code",
   "execution_count": 15,
   "metadata": {},
   "outputs": [],
   "source": [
    "from sklearn.model_selection import train_test_split\n",
    "xtrain, xtest, ylabels, ylabels_test = train_test_split(Xinput, yinput, test_size=0.2, stratify=yinput, random_state=2018)"
   ]
  },
  {
   "cell_type": "code",
   "execution_count": 16,
   "metadata": {},
   "outputs": [],
   "source": [
    "train = xtrain.transpose()\n",
    "labels = ylabels.values.reshape(1, 4000)-1\n",
    "labels_ = np.zeros((4000, 9))\n",
    "labels_[np.arange(4000), labels] = 1\n",
    "labels_ = labels_.transpose()"
   ]
  },
  {
   "cell_type": "code",
   "execution_count": 17,
   "metadata": {},
   "outputs": [
    {
     "name": "stdout",
     "output_type": "stream",
     "text": [
      "(784, 4000)\n",
      "(9, 4000)\n"
     ]
    }
   ],
   "source": [
    "print(train.shape)\n",
    "print(labels_.shape)"
   ]
  },
  {
   "cell_type": "code",
   "execution_count": 18,
   "metadata": {},
   "outputs": [],
   "source": [
    "test = xtest.transpose()\n",
    "labels_test = ylabels_test.values.reshape(1, 1000)-1\n",
    "labels_test_ = np.zeros((1000, 9))\n",
    "labels_test_[np.arange(1000), labels_test] = 1\n",
    "labels_test_ = labels_test_.transpose()"
   ]
  },
  {
   "cell_type": "code",
   "execution_count": 19,
   "metadata": {},
   "outputs": [
    {
     "name": "stdout",
     "output_type": "stream",
     "text": [
      "(9, 1000)\n",
      "(784, 1000)\n"
     ]
    }
   ],
   "source": [
    "print(labels_test_.shape)\n",
    "print(test.shape)"
   ]
  },
  {
   "cell_type": "markdown",
   "metadata": {},
   "source": [
    "## Normalization"
   ]
  },
  {
   "cell_type": "code",
   "execution_count": 20,
   "metadata": {},
   "outputs": [],
   "source": [
    "train = np.array(train / 255.0)\n",
    "test = np.array(test / 255.0)\n",
    "labels_ = np.array(labels_)\n",
    "labels_test_ = np.array(labels_test_)"
   ]
  },
  {
   "cell_type": "code",
   "execution_count": 21,
   "metadata": {},
   "outputs": [],
   "source": [
    "import tensorflow as tf"
   ]
  },
  {
   "cell_type": "markdown",
   "metadata": {},
   "source": [
    "## Random search"
   ]
  },
  {
   "cell_type": "code",
   "execution_count": 22,
   "metadata": {},
   "outputs": [],
   "source": [
    "def build_model_layers(neuron1,neuron2,neuron3,neuron4,neuron5,neuron6,neuron7,neuron8,neuron9):\n",
    "    n_dim = 784\n",
    "    tf.reset_default_graph()\n",
    "\n",
    "    \n",
    "    # Number of neurons in the layers\n",
    "    n1 = neuron1 # Number of neurons in layer 1\n",
    "    n2 = neuron2 # Number of neurons in layer 2 \n",
    "    n3 = neuron3\n",
    "    n4 = neuron4\n",
    "    n5 = neuron5\n",
    "    n6 = neuron6\n",
    "    n7 = neuron7\n",
    "    n8 = neuron8\n",
    "    n9 = neuron9\n",
    "    n10 = 9\n",
    "    \n",
    "    cost_history = np.empty(shape=[0], dtype = float)\n",
    "    learning_rate = tf.placeholder(tf.float32, shape=())\n",
    "\n",
    "    stddev_f = 0.1\n",
    "\n",
    "    tf.set_random_seed(5)\n",
    "\n",
    "    X = tf.placeholder(tf.float32, [n_dim, None])\n",
    "    Y = tf.placeholder(tf.float32, [9, None])\n",
    "    W1 = tf.Variable(tf.random_normal([n1, n_dim], stddev=stddev_f)) \n",
    "    b1 = tf.Variable(tf.constant(0.0, shape = [n1,1]) )\n",
    "    W2 = tf.Variable(tf.random_normal([n2, n1], stddev=stddev_f)) \n",
    "    b2 = tf.Variable(tf.constant(0.0, shape = [n2,1])) \n",
    "    W3 = tf.Variable(tf.random_normal([n3,n2], stddev = stddev_f))\n",
    "    b3 = tf.Variable(tf.constant(0.0, shape = [n3,1]))\n",
    "    W4 = tf.Variable(tf.random_normal([n4,n3], stddev = stddev_f))\n",
    "    b4 = tf.Variable(tf.constant(0.0, shape = [n4,1]))\n",
    "    W5 = tf.Variable(tf.random_normal([n5,n4], stddev = stddev_f))\n",
    "    b5 = tf.Variable(tf.constant(0.0, shape = [n5,1]))\n",
    "    W6 = tf.Variable(tf.random_normal([n6,n5], stddev = stddev_f))\n",
    "    b6 = tf.Variable(tf.constant(0.0, shape = [n6,1]))\n",
    "    W7 = tf.Variable(tf.random_normal([n7,n6], stddev = stddev_f))\n",
    "    b7 = tf.Variable(tf.constant(0.0, shape = [n7,1]))\n",
    "    W8 = tf.Variable(tf.random_normal([n8,n7], stddev = stddev_f))\n",
    "    b8 = tf.Variable(tf.constant(0.0, shape = [n8,1]))\n",
    "    W9 = tf.Variable(tf.random_normal([n9,n8], stddev = stddev_f))\n",
    "    b9 = tf.Variable(tf.constant(0.0, shape = [n9,1]))\n",
    "    W10 = tf.Variable(tf.random_normal([n10,n9], stddev = stddev_f))\n",
    "    b10 = tf.Variable(tf.constant(0.0, shape = [n10,1]))\n",
    "    \n",
    "    # Let's build our network...\n",
    "    Z1 = tf.nn.relu(tf.matmul(W1, X) + b1) # n1 x n_dim * n_dim x n_obs = n1 x n_obs\n",
    "    Z2 = tf.nn.relu(tf.matmul(W2, Z1) + b2) # n2 x n1 * n1 * n_obs = n2 x n_obs\n",
    "    Z3 = tf.nn.relu(tf.matmul(W3, Z2) + b3)\n",
    "    Z4 = tf.nn.relu(tf.matmul(W4, Z3) + b4)\n",
    "    Z5 = tf.nn.relu(tf.matmul(W5, Z4) + b5)\n",
    "    Z6 = tf.nn.relu(tf.matmul(W6, Z5) + b6)\n",
    "    Z7 = tf.nn.relu(tf.matmul(W7, Z6) + b7)\n",
    "    Z8 = tf.nn.relu(tf.matmul(W8, Z7) + b8)\n",
    "    Z9 = tf.nn.relu(tf.matmul(W9, Z8) + b9)\n",
    "    Z10 = tf.matmul(W10, Z9) + b10\n",
    "    y_ = tf.nn.softmax(Z10,0) # n2 x n_obs (9 x None)\n",
    "\n",
    "\n",
    "    cost = - tf.reduce_mean(Y * tf.log(y_)+(1-Y) * tf.log(1-y_))\n",
    "    optimizer = tf.train.GradientDescentOptimizer(learning_rate).minimize(cost)\n",
    "\n",
    "    init = tf.global_variables_initializer()\n",
    "    \n",
    "    return optimizer, cost, y_, X, Y, learning_rate"
   ]
  },
  {
   "cell_type": "code",
   "execution_count": 23,
   "metadata": {},
   "outputs": [],
   "source": [
    "def model_layers(minibatch_size, training_epochs, features, classes, logging_step, \n",
    "                 learning_r,neuron1,neuron2,neuron3,neuron4,neuron5,neuron6,neuron7,neuron8,neuron9, debug = False):\n",
    "    \n",
    "    opt, c, y_, X, Y, learning_rate = build_model_layers(neuron1,neuron2,neuron3,neuron4,neuron5,neuron6,neuron7,\n",
    "                                                         neuron8,neuron9)\n",
    "    \n",
    "    sess = tf.Session()\n",
    "    sess.run(tf.global_variables_initializer())\n",
    "\n",
    "    cost_history = []\n",
    "    for epoch in range(training_epochs+1):\n",
    "        for i in range(0, features.shape[1], minibatch_size):\n",
    "            X_train_mini = features[:,i:i + minibatch_size]\n",
    "            y_train_mini = classes[:,i:i + minibatch_size]\n",
    "\n",
    "            #if (i % 5000 == 0):\n",
    "            #    print('i = ',i)\n",
    "            \n",
    "            sess.run(opt, feed_dict = {X: X_train_mini, Y: y_train_mini, learning_rate: learning_r})\n",
    "        cost_ = sess.run(c, feed_dict={ X:features, Y: classes, learning_rate: learning_r})\n",
    "        cost_history = np.append(cost_history, cost_)\n",
    "\n",
    "        if ((epoch % logging_step == 0) & debug):\n",
    "                print(\"Reached epoch\",epoch,\"cost J =\", cost_)\n",
    "                \n",
    "    correct_predictions = tf.equal(tf.argmax(y_,0), tf.argmax(Y,0))\n",
    "    accuracy = tf.reduce_mean(tf.cast(correct_predictions, \"float\"))\n",
    "    accuracy_train = accuracy.eval({X: train, Y: labels_, learning_rate: learning_r}, session = sess)\n",
    "    accuracy_test = accuracy.eval({X: test, Y: labels_test_, learning_rate: learning_r}, session = sess)\n",
    "                \n",
    "    return accuracy_train, accuracy_test, sess, cost_history"
   ]
  },
  {
   "cell_type": "code",
   "execution_count": 24,
   "metadata": {},
   "outputs": [],
   "source": [
    "neuron1 = np.random.randint(low=10, high=300.0, size=(20))\n",
    "neuron2 = np.random.randint(low=10, high=300.0, size=(20))\n",
    "neuron3 = np.random.randint(low=10, high=300.0, size=(20))\n",
    "neuron4 = np.random.randint(low=10, high=300.0, size=(20))\n",
    "neuron5 = np.random.randint(low=10, high=300.0, size=(20))\n",
    "neuron6 = np.random.randint(low=10, high=300.0, size=(20))\n",
    "neuron7 = np.random.randint(low=10, high=300.0, size=(20))\n",
    "neuron8 = np.random.randint(low=10, high=300.0, size=(20))\n",
    "neuron9 = np.random.randint(low=10, high=300.0, size=(20))\n",
    "\n",
    "r = -np.random.random([25])*(3-2)-2\n",
    "learning_ = 10**r\n",
    "mb_size_ = np.random.randint(low=25, high=80, size = 25)\n",
    "epochs_ = np.random.randint(low = 40, high = 100, size = (25))"
   ]
  },
  {
   "cell_type": "code",
   "execution_count": 25,
   "metadata": {},
   "outputs": [
    {
     "name": "stdout",
     "output_type": "stream",
     "text": [
      "epochs: 89 learning 0.009317614103099234 mb size 73 Neuron1: 258 Neuron2: 68 Neuron3: 18 Neuron4: 164 Neuron5: 97 Neuron6: 265 Neuron7: 105 Neuron8: 35 Neuron9: 201 Acc. Train: 0.34075 Acc. Test 0.345\n",
      "epochs: 49 learning 0.007059816815437883 mb size 38 Neuron1: 115 Neuron2: 22 Neuron3: 18 Neuron4: 208 Neuron5: 273 Neuron6: 270 Neuron7: 219 Neuron8: 179 Neuron9: 66 Acc. Train: 0.385 Acc. Test 0.39\n",
      "epochs: 47 learning 0.003961624964559379 mb size 64 Neuron1: 79 Neuron2: 162 Neuron3: 250 Neuron4: 271 Neuron5: 139 Neuron6: 167 Neuron7: 68 Neuron8: 99 Neuron9: 254 Acc. Train: 0.453 Acc. Test 0.444\n",
      "epochs: 57 learning 0.005423968840740511 mb size 28 Neuron1: 177 Neuron2: 209 Neuron3: 66 Neuron4: 75 Neuron5: 32 Neuron6: 69 Neuron7: 112 Neuron8: 223 Neuron9: 247 Acc. Train: 0.4825 Acc. Test 0.466\n",
      "epochs: 67 learning 0.0012926781291050066 mb size 63 Neuron1: 171 Neuron2: 277 Neuron3: 60 Neuron4: 96 Neuron5: 101 Neuron6: 251 Neuron7: 221 Neuron8: 151 Neuron9: 37 Acc. Train: 0.147 Acc. Test 0.145\n",
      "epochs: 67 learning 0.002149114172807651 mb size 75 Neuron1: 218 Neuron2: 282 Neuron3: 196 Neuron4: 273 Neuron5: 67 Neuron6: 151 Neuron7: 202 Neuron8: 297 Neuron9: 245 Acc. Train: 0.488 Acc. Test 0.456\n",
      "epochs: 59 learning 0.004555206988893891 mb size 34 Neuron1: 110 Neuron2: 278 Neuron3: 213 Neuron4: 93 Neuron5: 141 Neuron6: 135 Neuron7: 252 Neuron8: 296 Neuron9: 135 Acc. Train: 0.5155 Acc. Test 0.472\n",
      "epochs: 74 learning 0.0038042408949780075 mb size 69 Neuron1: 249 Neuron2: 178 Neuron3: 87 Neuron4: 293 Neuron5: 240 Neuron6: 79 Neuron7: 282 Neuron8: 82 Neuron9: 296 Acc. Train: 0.51175 Acc. Test 0.502\n",
      "epochs: 85 learning 0.0012663656702784694 mb size 74 Neuron1: 255 Neuron2: 218 Neuron3: 176 Neuron4: 27 Neuron5: 170 Neuron6: 233 Neuron7: 87 Neuron8: 110 Neuron9: 85 Acc. Train: 0.1375 Acc. Test 0.135\n",
      "epochs: 89 learning 0.0013628142929873307 mb size 62 Neuron1: 224 Neuron2: 180 Neuron3: 139 Neuron4: 217 Neuron5: 297 Neuron6: 57 Neuron7: 156 Neuron8: 167 Neuron9: 296 Acc. Train: 0.46925 Acc. Test 0.435\n",
      "epochs: 59 learning 0.0036995376570597895 mb size 59 Neuron1: 156 Neuron2: 204 Neuron3: 96 Neuron4: 87 Neuron5: 249 Neuron6: 292 Neuron7: 125 Neuron8: 37 Neuron9: 220 Acc. Train: 0.3855 Acc. Test 0.379\n",
      "epochs: 75 learning 0.003821586374975212 mb size 69 Neuron1: 18 Neuron2: 126 Neuron3: 83 Neuron4: 289 Neuron5: 207 Neuron6: 101 Neuron7: 204 Neuron8: 276 Neuron9: 32 Acc. Train: 0.27525 Acc. Test 0.293\n",
      "epochs: 81 learning 0.0029134601979333014 mb size 33 Neuron1: 181 Neuron2: 104 Neuron3: 89 Neuron4: 218 Neuron5: 214 Neuron6: 138 Neuron7: 176 Neuron8: 134 Neuron9: 248 Acc. Train: 0.4715 Acc. Test 0.447\n",
      "epochs: 58 learning 0.008193918420000942 mb size 77 Neuron1: 238 Neuron2: 173 Neuron3: 65 Neuron4: 89 Neuron5: 138 Neuron6: 239 Neuron7: 212 Neuron8: 168 Neuron9: 194 Acc. Train: 0.44675 Acc. Test 0.408\n",
      "epochs: 45 learning 0.0027889738972795785 mb size 73 Neuron1: 166 Neuron2: 283 Neuron3: 238 Neuron4: 108 Neuron5: 163 Neuron6: 18 Neuron7: 150 Neuron8: 35 Neuron9: 18 Acc. Train: 0.24425 Acc. Test 0.25\n",
      "epochs: 46 learning 0.001537649876649091 mb size 55 Neuron1: 262 Neuron2: 153 Neuron3: 107 Neuron4: 153 Neuron5: 51 Neuron6: 156 Neuron7: 63 Neuron8: 259 Neuron9: 23 Acc. Train: 0.125 Acc. Test 0.125\n",
      "epochs: 65 learning 0.005725587579388066 mb size 57 Neuron1: 226 Neuron2: 154 Neuron3: 244 Neuron4: 205 Neuron5: 242 Neuron6: 211 Neuron7: 163 Neuron8: 203 Neuron9: 290 Acc. Train: 0.58 Acc. Test 0.472\n",
      "epochs: 64 learning 0.0065900693206818375 mb size 48 Neuron1: 28 Neuron2: 160 Neuron3: 15 Neuron4: 173 Neuron5: 180 Neuron6: 73 Neuron7: 94 Neuron8: 135 Neuron9: 198 Acc. Train: 0.353 Acc. Test 0.37\n",
      "epochs: 51 learning 0.001155364458634412 mb size 76 Neuron1: 122 Neuron2: 217 Neuron3: 21 Neuron4: 94 Neuron5: 130 Neuron6: 207 Neuron7: 243 Neuron8: 100 Neuron9: 269 Acc. Train: 0.207 Acc. Test 0.206\n",
      "epochs: 72 learning 0.007045888514241296 mb size 49 Neuron1: 297 Neuron2: 297 Neuron3: 69 Neuron4: 151 Neuron5: 62 Neuron6: 42 Neuron7: 255 Neuron8: 237 Neuron9: 200 Acc. Train: 0.546 Acc. Test 0.511\n"
     ]
    }
   ],
   "source": [
    "for i in range(0,20):\n",
    "    acc_train, acc_test, sess, cost_history = model_layers(minibatch_size = mb_size_[i], \n",
    "                              training_epochs = epochs_[i], \n",
    "                              features = train, \n",
    "                              classes = labels_, \n",
    "                              logging_step = 10,\n",
    "                              learning_r = learning_[i],\n",
    "                              neuron1 = neuron1[i],\n",
    "                              neuron2 = neuron2[i],\n",
    "                              neuron3 = neuron3[i],\n",
    "                              neuron4 = neuron4[i], \n",
    "                              neuron5 = neuron5[i],                             \n",
    "                              neuron6 = neuron6[i],                             \n",
    "                              neuron7 = neuron7[i],                             \n",
    "                              neuron8 = neuron8[i],                             \n",
    "                              neuron9 = neuron9[i],                             \n",
    "                              debug = False)\n",
    "    print('epochs:', epochs_[i],'learning', learning_[i],'mb size',mb_size_[i],\n",
    "          'Neuron1:',neuron1[i],'Neuron2:',neuron2[i],'Neuron3:',neuron3[i],\n",
    "          'Neuron4:',neuron4[i],'Neuron5:',neuron5[i],'Neuron6:',neuron6[i],\n",
    "          'Neuron7:',neuron7[i],'Neuron8:',neuron8[i],'Neuron9:',neuron9[i],\n",
    "          'Acc. Train:', acc_train, 'Acc. Test', acc_test)"
   ]
  },
  {
   "cell_type": "code",
   "execution_count": null,
   "metadata": {},
   "outputs": [],
   "source": []
  },
  {
   "cell_type": "code",
   "execution_count": null,
   "metadata": {},
   "outputs": [],
   "source": []
  }
 ],
 "metadata": {
  "kernelspec": {
   "display_name": "Python 3",
   "language": "python",
   "name": "python3"
  },
  "language_info": {
   "codemirror_mode": {
    "name": "ipython",
    "version": 3
   },
   "file_extension": ".py",
   "mimetype": "text/x-python",
   "name": "python",
   "nbconvert_exporter": "python",
   "pygments_lexer": "ipython3",
   "version": "3.6.7"
  }
 },
 "nbformat": 4,
 "nbformat_minor": 2
}
