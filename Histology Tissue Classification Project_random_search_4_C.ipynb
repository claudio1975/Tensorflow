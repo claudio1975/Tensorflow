{
 "cells": [
  {
   "cell_type": "markdown",
   "metadata": {},
   "source": [
    "# Histology Tissue Classification Project (HTCP)"
   ]
  },
  {
   "cell_type": "markdown",
   "metadata": {},
   "source": [
    "(C) K. Mader / U. Michelucci 2018-2019\n",
    "\n",
    "# Overview\n",
    "The dataset serves as a much more interesting MNIST or CIFAR10 problem for biologists by focusing on histology tiles from patients with colorectal cancer. In particular, the data has 8 different classes of tissue (but Cancer/Not Cancer can also be an interesting problem).\n",
    "\n",
    "The dataset has been adapted for the course by K. Mader (kevin.mader@gmail.com), and is available on kaggle: https://goo.gl/26zj41\n",
    "\n",
    "# Challenge\n",
    "- Classify tiles correctly into one of the eight classes\n",
    "- Which classes are most frequently confused?\n",
    "- What features can be used (like texture, see scikit-image) to improve classification?\n",
    "- How can these models be applied to the much larger 5000x5000 models? \n",
    "How can this be done efficiently?\n",
    "\n",
    "# Acknowledgements\n",
    "The dataset has been copied from Zenodo: https://zenodo.org/record/53169#.W6HwwP4zbOQ\n",
    "\n",
    "made by: Kather, Jakob Nikolas; Zöllner, Frank Gerrit; Bianconi, Francesco; Melchers, \n",
    "    Susanne M; Schad, Lothar R; Gaiser, Timo; Marx, Alexander; Weis, Cleo-Aron\n",
    "\n",
    "The copy here is to make it more accessible to Kaggle users and allow kernels \n",
    "providing basic analysis of the data\n",
    "\n",
    "Content\n",
    "This data set represents a collection of textures in histological images of \n",
    "human colorectal cancer. It contains two files:\n",
    "\n",
    "    Kather_texture_2016_image_tiles_5000.zip\": a zipped folder containing 5000 \n",
    "    histological images of 150 * 150 px each (74 * 74 µm). Each image belongs \n",
    "    to exactly one of eight tissue categories (specified by the folder name). \n",
    "    \n",
    "    Kather_texture_2016_larger_images_10.zip\": a zipped folder containing 10 \n",
    "    larger histological images of 5000 x 5000 px each. These images contain \n",
    "    more than one tissue type. Image format\n",
    "\n",
    "All images are RGB, 0.495 µm per pixel, digitized with an Aperio ScanScope \n",
    "(Aperio/Leica biosystems), magnification 20x. Histological samples are fully \n",
    "anonymized images of formalin-fixed paraffin-embedded human colorectal \n",
    "adenocarcinomas (primary tumors) from our pathology archive (Institute of Pathology, \n",
    "University Medical Center Mannheim, Heidelberg University, Mannheim, Germany).\n",
    "\n",
    "Additionally the files has been prepared to resemble the MNIST dataset, meaning that you will also find the following files\n",
    "\n",
    "- HTCP_8_8_L - \n",
    "- HTCP_8_8_RGB -\n",
    "- HTCP_28_28_L -\n",
    "- HTCP_28_28_RGB - \n",
    "- HTCP_64_64_L\n",
    "\n",
    "# Ethics statement\n",
    "All experiments were approved by the institutional ethics board (medical ethics board II, University Medical Center Mannheim, Heidelberg University, Germany; approval 2015-868R-MA). The institutional ethics board waived the need for informed consent for this retrospective analysis of anonymized samples. All experiments were carried out in accordance with the approved guidelines and with the Declaration of Helsinki.\n",
    "\n",
    "# More information / data usage\n",
    "For more information, please refer to the following article. Please cite this article when using the data set.\n",
    "\n",
    "Kather JN, Weis CA, Bianconi F, Melchers SM, Schad LR, Gaiser T, Marx A, Zollner F: Multi-class texture analysis in colorectal cancer histology (2016), Scientific Reports (in press)\n",
    "\n",
    "# Contact\n",
    "For questions, please contact: Dr. Jakob Nikolas Kather http://orcid.org/0000-0002-3730-5348 ResearcherID: D-4279-2015"
   ]
  },
  {
   "cell_type": "markdown",
   "metadata": {},
   "source": [
    "# Download the data"
   ]
  },
  {
   "cell_type": "markdown",
   "metadata": {},
   "source": [
    "The dataset is composed of two datasets:\n",
    "\n",
    "- The small images that will be used to test the classification models\n",
    "- The big microscope images (5000x5000)\n",
    "\n",
    "The first dataset is quite small and can be found in the same github repository where you find this file. The second are much bigger (250 Mb and 700 Mb) and cannot be uploaded on github, so you can get them on  kaggle: https://goo.gl/hkRSke  "
   ]
  },
  {
   "cell_type": "markdown",
   "metadata": {},
   "source": [
    "# Helper Functions"
   ]
  },
  {
   "cell_type": "code",
   "execution_count": 1,
   "metadata": {},
   "outputs": [],
   "source": [
    "def plot_image(some_image):\n",
    "    \n",
    "    some_digit_image = some_image.values.reshape(28,28)\n",
    "\n",
    "    plt.imshow(some_digit_image, cmap = matplotlib.cm.binary, interpolation = \"nearest\")\n",
    "    plt.axis(\"off\")\n",
    "    plt.show()"
   ]
  },
  {
   "cell_type": "code",
   "execution_count": 2,
   "metadata": {},
   "outputs": [],
   "source": [
    "def get_label_name(idx):\n",
    "    \n",
    "    if (idx == 1):\n",
    "        return '(1) TUMOR'\n",
    "    elif (idx == 2):\n",
    "        return '(2) STROMA'\n",
    "    elif (idx == 3):\n",
    "        return '(3) COMPLEX'\n",
    "    elif (idx == 4):\n",
    "        return '(4) LYMPHO'\n",
    "    elif (idx == 5):\n",
    "        return '(5) DEBRIS'\n",
    "    elif (idx == 6):\n",
    "        return '(6) MUCOSA'\n",
    "    elif (idx == 7):\n",
    "        return '(7) ADIPOSE'\n",
    "    elif (idx == 8):\n",
    "        return '(8) EMPTY'"
   ]
  },
  {
   "cell_type": "markdown",
   "metadata": {},
   "source": [
    "# Load the data"
   ]
  },
  {
   "cell_type": "code",
   "execution_count": 3,
   "metadata": {},
   "outputs": [],
   "source": [
    "%matplotlib inline\n",
    "from glob import glob\n",
    "import os\n",
    "import matplotlib.pyplot as plt\n",
    "import matplotlib\n",
    "import numpy as np\n",
    "import pandas as pd\n",
    "from random import *"
   ]
  },
  {
   "cell_type": "code",
   "execution_count": 4,
   "metadata": {},
   "outputs": [],
   "source": [
    "data = pd.read_csv('data/HTCP_28_28_L.csv')"
   ]
  },
  {
   "cell_type": "markdown",
   "metadata": {},
   "source": [
    "Let's create an array with labels (not yet one-encoded) and one for the images."
   ]
  },
  {
   "cell_type": "code",
   "execution_count": 5,
   "metadata": {},
   "outputs": [],
   "source": [
    "yinput = data['label']\n",
    "Xinput = data.drop(['label'], axis = 1)"
   ]
  },
  {
   "cell_type": "markdown",
   "metadata": {},
   "source": [
    "Let's look at the first records of the dataframe"
   ]
  },
  {
   "cell_type": "code",
   "execution_count": 6,
   "metadata": {},
   "outputs": [
    {
     "data": {
      "text/html": [
       "<div>\n",
       "<style scoped>\n",
       "    .dataframe tbody tr th:only-of-type {\n",
       "        vertical-align: middle;\n",
       "    }\n",
       "\n",
       "    .dataframe tbody tr th {\n",
       "        vertical-align: top;\n",
       "    }\n",
       "\n",
       "    .dataframe thead th {\n",
       "        text-align: right;\n",
       "    }\n",
       "</style>\n",
       "<table border=\"1\" class=\"dataframe\">\n",
       "  <thead>\n",
       "    <tr style=\"text-align: right;\">\n",
       "      <th></th>\n",
       "      <th>pixel0000</th>\n",
       "      <th>pixel0001</th>\n",
       "      <th>pixel0002</th>\n",
       "      <th>pixel0003</th>\n",
       "      <th>pixel0004</th>\n",
       "      <th>pixel0005</th>\n",
       "      <th>pixel0006</th>\n",
       "      <th>pixel0007</th>\n",
       "      <th>pixel0008</th>\n",
       "      <th>pixel0009</th>\n",
       "      <th>...</th>\n",
       "      <th>pixel0774</th>\n",
       "      <th>pixel0775</th>\n",
       "      <th>pixel0776</th>\n",
       "      <th>pixel0777</th>\n",
       "      <th>pixel0778</th>\n",
       "      <th>pixel0779</th>\n",
       "      <th>pixel0780</th>\n",
       "      <th>pixel0781</th>\n",
       "      <th>pixel0782</th>\n",
       "      <th>pixel0783</th>\n",
       "    </tr>\n",
       "  </thead>\n",
       "  <tbody>\n",
       "    <tr>\n",
       "      <th>0</th>\n",
       "      <td>101</td>\n",
       "      <td>110</td>\n",
       "      <td>154</td>\n",
       "      <td>160</td>\n",
       "      <td>95</td>\n",
       "      <td>44</td>\n",
       "      <td>139</td>\n",
       "      <td>184</td>\n",
       "      <td>164</td>\n",
       "      <td>160</td>\n",
       "      <td>...</td>\n",
       "      <td>128</td>\n",
       "      <td>103</td>\n",
       "      <td>73</td>\n",
       "      <td>72</td>\n",
       "      <td>75</td>\n",
       "      <td>152</td>\n",
       "      <td>130</td>\n",
       "      <td>96</td>\n",
       "      <td>133</td>\n",
       "      <td>159</td>\n",
       "    </tr>\n",
       "    <tr>\n",
       "      <th>1</th>\n",
       "      <td>67</td>\n",
       "      <td>66</td>\n",
       "      <td>69</td>\n",
       "      <td>76</td>\n",
       "      <td>80</td>\n",
       "      <td>57</td>\n",
       "      <td>46</td>\n",
       "      <td>67</td>\n",
       "      <td>90</td>\n",
       "      <td>77</td>\n",
       "      <td>...</td>\n",
       "      <td>57</td>\n",
       "      <td>58</td>\n",
       "      <td>65</td>\n",
       "      <td>74</td>\n",
       "      <td>80</td>\n",
       "      <td>81</td>\n",
       "      <td>83</td>\n",
       "      <td>77</td>\n",
       "      <td>75</td>\n",
       "      <td>73</td>\n",
       "    </tr>\n",
       "    <tr>\n",
       "      <th>2</th>\n",
       "      <td>127</td>\n",
       "      <td>137</td>\n",
       "      <td>121</td>\n",
       "      <td>140</td>\n",
       "      <td>170</td>\n",
       "      <td>111</td>\n",
       "      <td>128</td>\n",
       "      <td>117</td>\n",
       "      <td>60</td>\n",
       "      <td>105</td>\n",
       "      <td>...</td>\n",
       "      <td>69</td>\n",
       "      <td>90</td>\n",
       "      <td>100</td>\n",
       "      <td>143</td>\n",
       "      <td>119</td>\n",
       "      <td>148</td>\n",
       "      <td>140</td>\n",
       "      <td>193</td>\n",
       "      <td>146</td>\n",
       "      <td>97</td>\n",
       "    </tr>\n",
       "    <tr>\n",
       "      <th>3</th>\n",
       "      <td>80</td>\n",
       "      <td>90</td>\n",
       "      <td>101</td>\n",
       "      <td>106</td>\n",
       "      <td>120</td>\n",
       "      <td>100</td>\n",
       "      <td>99</td>\n",
       "      <td>66</td>\n",
       "      <td>63</td>\n",
       "      <td>91</td>\n",
       "      <td>...</td>\n",
       "      <td>154</td>\n",
       "      <td>131</td>\n",
       "      <td>109</td>\n",
       "      <td>97</td>\n",
       "      <td>102</td>\n",
       "      <td>71</td>\n",
       "      <td>93</td>\n",
       "      <td>120</td>\n",
       "      <td>84</td>\n",
       "      <td>62</td>\n",
       "    </tr>\n",
       "    <tr>\n",
       "      <th>4</th>\n",
       "      <td>153</td>\n",
       "      <td>141</td>\n",
       "      <td>121</td>\n",
       "      <td>132</td>\n",
       "      <td>110</td>\n",
       "      <td>131</td>\n",
       "      <td>119</td>\n",
       "      <td>99</td>\n",
       "      <td>101</td>\n",
       "      <td>91</td>\n",
       "      <td>...</td>\n",
       "      <td>134</td>\n",
       "      <td>117</td>\n",
       "      <td>121</td>\n",
       "      <td>136</td>\n",
       "      <td>178</td>\n",
       "      <td>192</td>\n",
       "      <td>210</td>\n",
       "      <td>189</td>\n",
       "      <td>149</td>\n",
       "      <td>155</td>\n",
       "    </tr>\n",
       "  </tbody>\n",
       "</table>\n",
       "<p>5 rows × 784 columns</p>\n",
       "</div>"
      ],
      "text/plain": [
       "   pixel0000  pixel0001  pixel0002  pixel0003  pixel0004  pixel0005  \\\n",
       "0        101        110        154        160         95         44   \n",
       "1         67         66         69         76         80         57   \n",
       "2        127        137        121        140        170        111   \n",
       "3         80         90        101        106        120        100   \n",
       "4        153        141        121        132        110        131   \n",
       "\n",
       "   pixel0006  pixel0007  pixel0008  pixel0009    ...      pixel0774  \\\n",
       "0        139        184        164        160    ...            128   \n",
       "1         46         67         90         77    ...             57   \n",
       "2        128        117         60        105    ...             69   \n",
       "3         99         66         63         91    ...            154   \n",
       "4        119         99        101         91    ...            134   \n",
       "\n",
       "   pixel0775  pixel0776  pixel0777  pixel0778  pixel0779  pixel0780  \\\n",
       "0        103         73         72         75        152        130   \n",
       "1         58         65         74         80         81         83   \n",
       "2         90        100        143        119        148        140   \n",
       "3        131        109         97        102         71         93   \n",
       "4        117        121        136        178        192        210   \n",
       "\n",
       "   pixel0781  pixel0782  pixel0783  \n",
       "0         96        133        159  \n",
       "1         77         75         73  \n",
       "2        193        146         97  \n",
       "3        120         84         62  \n",
       "4        189        149        155  \n",
       "\n",
       "[5 rows x 784 columns]"
      ]
     },
     "execution_count": 6,
     "metadata": {},
     "output_type": "execute_result"
    }
   ],
   "source": [
    "Xinput.head()"
   ]
  },
  {
   "cell_type": "code",
   "execution_count": 7,
   "metadata": {},
   "outputs": [
    {
     "data": {
      "text/plain": [
       "0    2\n",
       "1    2\n",
       "2    2\n",
       "3    2\n",
       "4    2\n",
       "Name: label, dtype: int64"
      ]
     },
     "execution_count": 7,
     "metadata": {},
     "output_type": "execute_result"
    }
   ],
   "source": [
    "yinput.head()"
   ]
  },
  {
   "cell_type": "markdown",
   "metadata": {},
   "source": [
    "The datasets has 5000 images, each 28x28 in gray"
   ]
  },
  {
   "cell_type": "code",
   "execution_count": 8,
   "metadata": {},
   "outputs": [
    {
     "data": {
      "text/plain": [
       "(5000, 784)"
      ]
     },
     "execution_count": 8,
     "metadata": {},
     "output_type": "execute_result"
    }
   ],
   "source": [
    "Xinput.shape"
   ]
  },
  {
   "cell_type": "code",
   "execution_count": 9,
   "metadata": {},
   "outputs": [
    {
     "data": {
      "text/plain": [
       "(5000,)"
      ]
     },
     "execution_count": 9,
     "metadata": {},
     "output_type": "execute_result"
    }
   ],
   "source": [
    "yinput.shape"
   ]
  },
  {
   "cell_type": "markdown",
   "metadata": {},
   "source": [
    "## Examples of each class"
   ]
  },
  {
   "cell_type": "markdown",
   "metadata": {},
   "source": [
    "Let's plot an image of each class"
   ]
  },
  {
   "cell_type": "code",
   "execution_count": 10,
   "metadata": {},
   "outputs": [
    {
     "data": {
      "text/plain": [
       "array([2, 5, 7, 6, 8, 1, 4, 3], dtype=int64)"
      ]
     },
     "execution_count": 10,
     "metadata": {},
     "output_type": "execute_result"
    }
   ],
   "source": [
    "yinput.unique()"
   ]
  },
  {
   "cell_type": "code",
   "execution_count": 11,
   "metadata": {},
   "outputs": [],
   "source": [
    "def get_random_element_with_label (Xinput, lbls, lbl):\n",
    "    tmp = lbls == lbl\n",
    "    subset = Xinput[tmp]\n",
    "    return subset.iloc[randint(1,subset.shape[0])]\n",
    "\n",
    "labels_overview = np.empty([10,784])\n",
    "for i in range (1,9):\n",
    "    img = get_random_element_with_label(Xinput, yinput, i)\n",
    "    labels_overview[i,:] = img"
   ]
  },
  {
   "cell_type": "code",
   "execution_count": 12,
   "metadata": {},
   "outputs": [
    {
     "data": {
      "image/png": "[encoded data removed]",
      "text/plain": [
       "<Figure size 576x1080 with 8 Axes>"
      ]
     },
     "metadata": {
      "needs_background": "light"
     },
     "output_type": "display_data"
    }
   ],
   "source": [
    "f = plt.figure(figsize=(8,15));\n",
    "count = 1\n",
    "for i in range(1,9):\n",
    "    plt.subplot(5,2,count)\n",
    "    count = count + 1\n",
    "    plt.subplots_adjust(hspace=0.2)\n",
    "    plt.title(get_label_name(i))\n",
    "    some_digit_image = labels_overview[i,:].reshape(28,28)\n",
    "    plt.imshow(some_digit_image, cmap = matplotlib.cm.binary, interpolation = \"nearest\")\n",
    "    plt.axis(\"off\")\n",
    "    pass"
   ]
  },
  {
   "cell_type": "code",
   "execution_count": 13,
   "metadata": {},
   "outputs": [
    {
     "name": "stdout",
     "output_type": "stream",
     "text": [
      "image 0 appear 0 times\n",
      "image 1 appear 625 times\n",
      "image 2 appear 625 times\n",
      "image 3 appear 625 times\n",
      "image 4 appear 625 times\n",
      "image 5 appear 625 times\n",
      "image 6 appear 625 times\n",
      "image 7 appear 625 times\n",
      "image 8 appear 625 times\n"
     ]
    }
   ],
   "source": [
    "total = 0\n",
    "for i in range(9):\n",
    "    print (\"image\", i, \"appear\", np.count_nonzero(yinput == i), \"times\")"
   ]
  },
  {
   "cell_type": "code",
   "execution_count": 14,
   "metadata": {},
   "outputs": [
    {
     "name": "stdout",
     "output_type": "stream",
     "text": [
      "image 0 makes 0.0 % of the 5000 observations\n",
      "image 1 makes 12.5 % of the 5000 observations\n",
      "image 2 makes 12.5 % of the 5000 observations\n",
      "image 3 makes 12.5 % of the 5000 observations\n",
      "image 4 makes 12.5 % of the 5000 observations\n",
      "image 5 makes 12.5 % of the 5000 observations\n",
      "image 6 makes 12.5 % of the 5000 observations\n",
      "image 7 makes 12.5 % of the 5000 observations\n",
      "image 8 makes 12.5 % of the 5000 observations\n"
     ]
    }
   ],
   "source": [
    "total = 0\n",
    "for i in range(9):\n",
    "    print (\"image\", i, \"makes\", np.around(np.count_nonzero(yinput == i)/5000.0*100.0, decimals=1), \"% of the 5000 observations\")"
   ]
  },
  {
   "cell_type": "code",
   "execution_count": 15,
   "metadata": {},
   "outputs": [],
   "source": [
    "from sklearn.model_selection import train_test_split\n",
    "xtrain, xtest, ylabels, ylabels_test = train_test_split(Xinput, yinput, test_size=0.2, stratify=yinput, random_state=2018)"
   ]
  },
  {
   "cell_type": "code",
   "execution_count": 16,
   "metadata": {},
   "outputs": [],
   "source": [
    "train = xtrain.transpose()\n",
    "labels = ylabels.values.reshape(1, 4000)-1\n",
    "labels_ = np.zeros((4000, 9))\n",
    "labels_[np.arange(4000), labels] = 1\n",
    "labels_ = labels_.transpose()"
   ]
  },
  {
   "cell_type": "code",
   "execution_count": 17,
   "metadata": {},
   "outputs": [
    {
     "name": "stdout",
     "output_type": "stream",
     "text": [
      "(784, 4000)\n",
      "(9, 4000)\n"
     ]
    }
   ],
   "source": [
    "print(train.shape)\n",
    "print(labels_.shape)"
   ]
  },
  {
   "cell_type": "code",
   "execution_count": 18,
   "metadata": {},
   "outputs": [],
   "source": [
    "test = xtest.transpose()\n",
    "labels_test = ylabels_test.values.reshape(1, 1000)-1\n",
    "labels_test_ = np.zeros((1000, 9))\n",
    "labels_test_[np.arange(1000), labels_test] = 1\n",
    "labels_test_ = labels_test_.transpose()"
   ]
  },
  {
   "cell_type": "code",
   "execution_count": 19,
   "metadata": {},
   "outputs": [
    {
     "name": "stdout",
     "output_type": "stream",
     "text": [
      "(9, 1000)\n",
      "(784, 1000)\n"
     ]
    }
   ],
   "source": [
    "print(labels_test_.shape)\n",
    "print(test.shape)"
   ]
  },
  {
   "cell_type": "markdown",
   "metadata": {},
   "source": [
    "## Normalization"
   ]
  },
  {
   "cell_type": "code",
   "execution_count": 20,
   "metadata": {},
   "outputs": [],
   "source": [
    "train = np.array(train / 255.0)\n",
    "test = np.array(test / 255.0)\n",
    "labels_ = np.array(labels_)\n",
    "labels_test_ = np.array(labels_test_)"
   ]
  },
  {
   "cell_type": "code",
   "execution_count": 21,
   "metadata": {},
   "outputs": [],
   "source": [
    "import tensorflow as tf"
   ]
  },
  {
   "cell_type": "markdown",
   "metadata": {},
   "source": [
    "## Random search"
   ]
  },
  {
   "cell_type": "code",
   "execution_count": 22,
   "metadata": {},
   "outputs": [],
   "source": [
    "def build_model_layers(neuron1,neuron2,neuron3,neuron4):\n",
    "    n_dim = 784\n",
    "    tf.reset_default_graph()\n",
    "\n",
    "    \n",
    "    # Number of neurons in the layers\n",
    "    n1 = neuron1 # Number of neurons in layer 1\n",
    "    n2 = neuron2 # Number of neurons in layer 2 \n",
    "    n3 = neuron3\n",
    "    n4 = neuron4\n",
    "    n5 = 9 # output layer\n",
    "    \n",
    "    cost_history = np.empty(shape=[0], dtype = float)\n",
    "    learning_rate = tf.placeholder(tf.float32, shape=())\n",
    "\n",
    "    stddev_f = 0.1\n",
    "\n",
    "    tf.set_random_seed(5)\n",
    "\n",
    "    X = tf.placeholder(tf.float32, [n_dim, None])\n",
    "    Y = tf.placeholder(tf.float32, [9, None])\n",
    "    W1 = tf.Variable(tf.random_normal([n1, n_dim], stddev=stddev_f)) \n",
    "    b1 = tf.Variable(tf.constant(0.0, shape = [n1,1]) )\n",
    "    W2 = tf.Variable(tf.random_normal([n2, n1], stddev=stddev_f)) \n",
    "    b2 = tf.Variable(tf.constant(0.0, shape = [n2,1])) \n",
    "    W3 = tf.Variable(tf.random_normal([n3,n2], stddev = stddev_f))\n",
    "    b3 = tf.Variable(tf.constant(0.0, shape = [n3,1]))\n",
    "    W4 = tf.Variable(tf.random_normal([n4,n3], stddev = stddev_f))\n",
    "    b4 = tf.Variable(tf.constant(0.0, shape = [n4,1]))\n",
    "    W5 = tf.Variable(tf.random_normal([n5,n4], stddev = stddev_f))\n",
    "    b5 = tf.Variable(tf.constant(0.0, shape = [n5,1]))\n",
    "  \n",
    "    \n",
    "    # Let's build our network...\n",
    "    Z1 = tf.nn.relu(tf.matmul(W1, X) + b1) # n1 x n_dim * n_dim x n_obs = n1 x n_obs\n",
    "    Z2 = tf.nn.relu(tf.matmul(W2, Z1) + b2) # n2 x n1 * n1 * n_obs = n2 x n_obs\n",
    "    Z3 = tf.nn.relu(tf.matmul(W3, Z2) + b3)\n",
    "    Z4 = tf.nn.relu(tf.matmul(W4, Z3) + b4)\n",
    "    Z5 = tf.matmul(W5, Z4) + b5\n",
    "    y_ = tf.nn.softmax(Z5,0) # n2 x n_obs (9 x None)\n",
    "\n",
    "\n",
    "    cost = - tf.reduce_mean(Y * tf.log(y_)+(1-Y) * tf.log(1-y_))\n",
    "    optimizer = tf.train.GradientDescentOptimizer(learning_rate).minimize(cost)\n",
    "\n",
    "    init = tf.global_variables_initializer()\n",
    "    \n",
    "    return optimizer, cost, y_, X, Y, learning_rate"
   ]
  },
  {
   "cell_type": "code",
   "execution_count": 23,
   "metadata": {},
   "outputs": [],
   "source": [
    "def model_layers(minibatch_size, training_epochs, features, classes, logging_step, \n",
    "                 learning_r,neuron1,neuron2,neuron3,neuron4, debug = False):\n",
    "    \n",
    "    opt, c, y_, X, Y, learning_rate = build_model_layers(neuron1,neuron2,neuron3,neuron4)\n",
    "    \n",
    "    sess = tf.Session()\n",
    "    sess.run(tf.global_variables_initializer())\n",
    "\n",
    "    cost_history = []\n",
    "    for epoch in range(training_epochs+1):\n",
    "        for i in range(0, features.shape[1], minibatch_size):\n",
    "            X_train_mini = features[:,i:i + minibatch_size]\n",
    "            y_train_mini = classes[:,i:i + minibatch_size]\n",
    "\n",
    "            #if (i % 5000 == 0):\n",
    "            #    print('i = ',i)\n",
    "            \n",
    "            sess.run(opt, feed_dict = {X: X_train_mini, Y: y_train_mini, learning_rate: learning_r})\n",
    "        cost_ = sess.run(c, feed_dict={ X:features, Y: classes, learning_rate: learning_r})\n",
    "        cost_history = np.append(cost_history, cost_)\n",
    "\n",
    "        if ((epoch % logging_step == 0) & debug):\n",
    "                print(\"Reached epoch\",epoch,\"cost J =\", cost_)\n",
    "                \n",
    "    correct_predictions = tf.equal(tf.argmax(y_,0), tf.argmax(Y,0))\n",
    "    accuracy = tf.reduce_mean(tf.cast(correct_predictions, \"float\"))\n",
    "    accuracy_train = accuracy.eval({X: train, Y: labels_, learning_rate: learning_r}, session = sess)\n",
    "    accuracy_test = accuracy.eval({X: test, Y: labels_test_, learning_rate: learning_r}, session = sess)\n",
    "                \n",
    "    return accuracy_train, accuracy_test, sess, cost_history"
   ]
  },
  {
   "cell_type": "code",
   "execution_count": 24,
   "metadata": {},
   "outputs": [],
   "source": [
    "neuron1 = np.random.randint(low=10, high=300.0, size=(20))\n",
    "neuron2 = np.random.randint(low=10, high=300.0, size=(20))\n",
    "neuron3 = np.random.randint(low=10, high=300.0, size=(20))\n",
    "neuron4 = np.random.randint(low=10, high=300.0, size=(20))\n",
    "\n",
    "r = -np.random.random([25])*(3-2)-2\n",
    "learning_ = 10**r\n",
    "mb_size_ = np.random.randint(low=25, high=80, size = 25)\n",
    "epochs_ = np.random.randint(low = 40, high = 100, size = (25))"
   ]
  },
  {
   "cell_type": "code",
   "execution_count": 25,
   "metadata": {},
   "outputs": [
    {
     "name": "stdout",
     "output_type": "stream",
     "text": [
      "epochs: 80 learning 0.0013535259740176727 mb size 49 Neuron1: 128 Neuron2: 210 Neuron3: 274 Neuron4: 75 Acc. Train: 0.3015 Acc. Test 0.305\n",
      "epochs: 41 learning 0.0025360060121364983 mb size 33 Neuron1: 278 Neuron2: 128 Neuron3: 71 Neuron4: 250 Acc. Train: 0.3195 Acc. Test 0.305\n",
      "epochs: 93 learning 0.00965666230377861 mb size 49 Neuron1: 182 Neuron2: 202 Neuron3: 294 Neuron4: 182 Acc. Train: 0.6375 Acc. Test 0.541\n",
      "epochs: 40 learning 0.00918210991242095 mb size 27 Neuron1: 66 Neuron2: 135 Neuron3: 297 Neuron4: 127 Acc. Train: 0.4625 Acc. Test 0.425\n",
      "epochs: 87 learning 0.006332735403037867 mb size 70 Neuron1: 155 Neuron2: 252 Neuron3: 291 Neuron4: 118 Acc. Train: 0.49875 Acc. Test 0.432\n",
      "epochs: 65 learning 0.004496741903051702 mb size 51 Neuron1: 294 Neuron2: 122 Neuron3: 76 Neuron4: 266 Acc. Train: 0.4395 Acc. Test 0.404\n",
      "epochs: 97 learning 0.0044062553538192755 mb size 38 Neuron1: 209 Neuron2: 102 Neuron3: 165 Neuron4: 52 Acc. Train: 0.473 Acc. Test 0.424\n",
      "epochs: 49 learning 0.003922456036694391 mb size 46 Neuron1: 153 Neuron2: 90 Neuron3: 200 Neuron4: 79 Acc. Train: 0.2665 Acc. Test 0.259\n",
      "epochs: 66 learning 0.002105042774209704 mb size 67 Neuron1: 57 Neuron2: 211 Neuron3: 123 Neuron4: 73 Acc. Train: 0.15525 Acc. Test 0.161\n",
      "epochs: 58 learning 0.0016595270992463833 mb size 66 Neuron1: 15 Neuron2: 155 Neuron3: 240 Neuron4: 18 Acc. Train: 0.1985 Acc. Test 0.203\n",
      "epochs: 61 learning 0.004824319871453265 mb size 74 Neuron1: 71 Neuron2: 31 Neuron3: 27 Neuron4: 50 Acc. Train: 0.125 Acc. Test 0.125\n",
      "epochs: 63 learning 0.002544751158221507 mb size 74 Neuron1: 222 Neuron2: 125 Neuron3: 225 Neuron4: 59 Acc. Train: 0.259 Acc. Test 0.243\n",
      "epochs: 68 learning 0.0012016284182049767 mb size 67 Neuron1: 243 Neuron2: 200 Neuron3: 172 Neuron4: 275 Acc. Train: 0.3595 Acc. Test 0.347\n",
      "epochs: 74 learning 0.0026306651758150204 mb size 66 Neuron1: 217 Neuron2: 80 Neuron3: 139 Neuron4: 146 Acc. Train: 0.27475 Acc. Test 0.275\n",
      "epochs: 90 learning 0.001312504548694662 mb size 34 Neuron1: 23 Neuron2: 224 Neuron3: 91 Neuron4: 163 Acc. Train: 0.1695 Acc. Test 0.171\n",
      "epochs: 93 learning 0.002202737323964583 mb size 54 Neuron1: 205 Neuron2: 176 Neuron3: 197 Neuron4: 37 Acc. Train: 0.3225 Acc. Test 0.321\n",
      "epochs: 93 learning 0.00646950650653675 mb size 39 Neuron1: 184 Neuron2: 131 Neuron3: 21 Neuron4: 26 Acc. Train: 0.296 Acc. Test 0.293\n",
      "epochs: 84 learning 0.0027233403744234617 mb size 56 Neuron1: 216 Neuron2: 259 Neuron3: 61 Neuron4: 127 Acc. Train: 0.363 Acc. Test 0.324\n",
      "epochs: 45 learning 0.0014382122796955303 mb size 70 Neuron1: 169 Neuron2: 217 Neuron3: 89 Neuron4: 231 Acc. Train: 0.24775 Acc. Test 0.236\n",
      "epochs: 97 learning 0.002347340601895807 mb size 57 Neuron1: 291 Neuron2: 20 Neuron3: 199 Neuron4: 35 Acc. Train: 0.1295 Acc. Test 0.126\n"
     ]
    }
   ],
   "source": [
    "for i in range(0,20):\n",
    "    acc_train, acc_test, sess, cost_history = model_layers(minibatch_size = mb_size_[i], \n",
    "                              training_epochs = epochs_[i], \n",
    "                              features = train, \n",
    "                              classes = labels_, \n",
    "                              logging_step = 10,\n",
    "                              learning_r = learning_[i],\n",
    "                              neuron1 = neuron1[i],\n",
    "                              neuron2 = neuron2[i],\n",
    "                              neuron3 = neuron3[i],\n",
    "                              neuron4 = neuron4[i],                                                                           \n",
    "                              debug = False)\n",
    "    print('epochs:', epochs_[i],'learning', learning_[i],'mb size',mb_size_[i],\n",
    "          'Neuron1:',neuron1[i],'Neuron2:',neuron2[i],'Neuron3:',neuron3[i],\n",
    "          'Neuron4:',neuron4[i],\n",
    "          'Acc. Train:', acc_train, 'Acc. Test', acc_test)"
   ]
  },
  {
   "cell_type": "code",
   "execution_count": null,
   "metadata": {},
   "outputs": [],
   "source": []
  },
  {
   "cell_type": "code",
   "execution_count": null,
   "metadata": {},
   "outputs": [],
   "source": []
  }
 ],
 "metadata": {
  "kernelspec": {
   "display_name": "Python 3",
   "language": "python",
   "name": "python3"
  },
  "language_info": {
   "codemirror_mode": {
    "name": "ipython",
    "version": 3
   },
   "file_extension": ".py",
   "mimetype": "text/x-python",
   "name": "python",
   "nbconvert_exporter": "python",
   "pygments_lexer": "ipython3",
   "version": "3.6.7"
  }
 },
 "nbformat": 4,
 "nbformat_minor": 2
}
